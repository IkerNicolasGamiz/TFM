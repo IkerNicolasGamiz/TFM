{
 "cells": [
  {
   "cell_type": "code",
   "execution_count": 9,
   "id": "256c4f63-19c1-4087-80a9-f441c0290970",
   "metadata": {},
   "outputs": [
    {
     "ename": "IndexError",
     "evalue": "list index out of range",
     "output_type": "error",
     "traceback": [
      "\u001b[1;31m---------------------------------------------------------------------------\u001b[0m",
      "\u001b[1;31mIndexError\u001b[0m                                Traceback (most recent call last)",
      "Cell \u001b[1;32mIn[9], line 23\u001b[0m\n\u001b[0;32m     20\u001b[0m     \u001b[38;5;28;01mreturn\u001b[39;00m datos\n\u001b[0;32m     22\u001b[0m \u001b[38;5;66;03m# Reemplaza 'datos.csv' con el nombre de tu archivo CSV\u001b[39;00m\n\u001b[1;32m---> 23\u001b[0m datos \u001b[38;5;241m=\u001b[39m cargar_datos_desde_csv(\u001b[38;5;124m'\u001b[39m\u001b[38;5;124mC:/Users/Iker Nikolas/Desktop/TFM-24/Github/DatasetsOriginales/esperanza de vida (1975-2022).csv\u001b[39m\u001b[38;5;124m'\u001b[39m)\n\u001b[0;32m     24\u001b[0m \u001b[38;5;28mprint\u001b[39m(datos)\n",
      "Cell \u001b[1;32mIn[9], line 11\u001b[0m, in \u001b[0;36mcargar_datos_desde_csv\u001b[1;34m(archivo_csv)\u001b[0m\n\u001b[0;32m      9\u001b[0m \u001b[38;5;28;01mfor\u001b[39;00m fila \u001b[38;5;129;01min\u001b[39;00m lector_csv:\n\u001b[0;32m     10\u001b[0m     territorio \u001b[38;5;241m=\u001b[39m fila[\u001b[38;5;241m0\u001b[39m]\n\u001b[1;32m---> 11\u001b[0m     sexo \u001b[38;5;241m=\u001b[39m fila[\u001b[38;5;241m1\u001b[39m]\n\u001b[0;32m     12\u001b[0m     año \u001b[38;5;241m=\u001b[39m \u001b[38;5;28mint\u001b[39m(fila[\u001b[38;5;241m2\u001b[39m])\n\u001b[0;32m     13\u001b[0m     valor \u001b[38;5;241m=\u001b[39m \u001b[38;5;28mfloat\u001b[39m(fila[\u001b[38;5;241m3\u001b[39m]\u001b[38;5;241m.\u001b[39mreplace(\u001b[38;5;124m'\u001b[39m\u001b[38;5;124m,\u001b[39m\u001b[38;5;124m'\u001b[39m, \u001b[38;5;124m'\u001b[39m\u001b[38;5;124m.\u001b[39m\u001b[38;5;124m'\u001b[39m))\n",
      "\u001b[1;31mIndexError\u001b[0m: list index out of range"
     ]
    }
   ],
   "source": [
    "import csv\n",
    "\n",
    "def cargar_datos_desde_csv(archivo_csv):\n",
    "    datos = {}\n",
    "    with open(archivo_csv, newline='') as csvfile:\n",
    "        lector_csv = csv.reader(csvfile, delimiter=';')  # Especifica el delimitador como punto y coma\n",
    "        # Ignoramos la primera fila si contiene encabezados\n",
    "        encabezados = next(lector_csv)\n",
    "        for fila in lector_csv:\n",
    "            # Verificamos si la fila tiene al menos 4 elementos antes de intentar acceder a ellos\n",
    "            if len(fila) >= 4:\n",
    "                # Convertimos el año a entero (suponiendo que está en la tercera columna)\n",
    "                año = int(fila[2])\n",
    "                # Reemplazamos las comas por puntos y luego convertimos a float\n",
    "                valor = float(fila[3].replace(',', '.'))  # Reemplaza la coma por punto y convierte a float\n",
    "                # Guardamos los datos\n",
    "                datos[año] = valor\n",
    "            else:\n",
    "                print(\"Advertencia: La fila no tiene suficientes elementos:\", fila)\n",
    "    return datos\n",
    "\n",
    "# Reemplaza 'datos.csv' con el nombre de tu archivo CSV\n",
    "datos = cargar_datos_desde_csv('C:/Users/Iker Nikolas/Desktop/TFM-24/Github/DatasetsOriginales/esperanza de vida (1975-2022).csv')\n",
    "print(datos)"
   ]
  },
  {
   "cell_type": "code",
   "execution_count": null,
   "id": "bc010e85-83b3-44ce-824b-4e198cd10c6c",
   "metadata": {},
   "outputs": [],
   "source": []
  }
 ],
 "metadata": {
  "kernelspec": {
   "display_name": "Python 3 (ipykernel)",
   "language": "python",
   "name": "python3"
  },
  "language_info": {
   "codemirror_mode": {
    "name": "ipython",
    "version": 3
   },
   "file_extension": ".py",
   "mimetype": "text/x-python",
   "name": "python",
   "nbconvert_exporter": "python",
   "pygments_lexer": "ipython3",
   "version": "3.11.7"
  }
 },
 "nbformat": 4,
 "nbformat_minor": 5
}
