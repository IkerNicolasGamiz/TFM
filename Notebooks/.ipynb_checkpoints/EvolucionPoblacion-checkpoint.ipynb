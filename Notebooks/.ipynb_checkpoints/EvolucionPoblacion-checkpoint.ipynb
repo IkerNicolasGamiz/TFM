{
 "cells": [
  {
   "cell_type": "code",
   "execution_count": null,
   "id": "0765ba23-4e2c-4f20-95a3-5011aa0f4184",
   "metadata": {},
   "outputs": [],
   "source": [
    "#En este archivo vamos a analizar el porcentaje de cada grupo durante los años en España, es decir, como se va distribuyendo la poblacion por edad\n",
    "\n",
    "#Vamos a diferenciar cuatro grandes grupos \n",
    "#1.Menores de 15 (con 16 se puede trabajar, y no tenemos datos de 16-19 sino de 15-19) -- Futuros trabajadores\n",
    "#2.15-49 (Generacion fuera del Baby Booom, 47-49 están dentro, pero no tenemos justo dicho año asi que cambiamos margen)\n",
    "#3.47"
   ]
  }
 ],
 "metadata": {
  "kernelspec": {
   "display_name": "Python 3 (ipykernel)",
   "language": "python",
   "name": "python3"
  },
  "language_info": {
   "codemirror_mode": {
    "name": "ipython",
    "version": 3
   },
   "file_extension": ".py",
   "mimetype": "text/x-python",
   "name": "python",
   "nbconvert_exporter": "python",
   "pygments_lexer": "ipython3",
   "version": "3.11.7"
  }
 },
 "nbformat": 4,
 "nbformat_minor": 5
}
