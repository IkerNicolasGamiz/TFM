{
 "cells": [
  {
   "cell_type": "code",
   "execution_count": 12,
   "id": "256c4f63-19c1-4087-80a9-f441c0290970",
   "metadata": {},
   "outputs": [
    {
     "name": "stdout",
     "output_type": "stream",
     "text": [
      "{2022: [83.08, 80.36, 85.74], 2021: [83.03, 80.2, 85.81], 2020: [82.28, 79.52, 85.04], 2019: [83.53, 80.78, 86.19], 2018: [83.15, 80.4, 85.83], 2017: [83.05, 80.32, 85.71], 2016: [83.08, 80.26, 85.82], 2015: [82.67, 79.89, 85.39], 2014: [82.91, 80.1, 85.63], 2013: [82.77, 79.92, 85.53], 2012: [82.26, 79.36, 85.1], 2011: [82.25, 79.3, 85.13], 2010: [82.07, 79.05, 85.03], 2009: [81.66, 78.62, 84.65], 2008: [81.3, 78.22, 84.33], 2007: [80.97, 77.78, 84.14], 2006: [80.94, 77.71, 84.15], 2005: [80.28, 77.02, 83.54], 2004: [80.29, 76.98, 83.57], 2003: [79.7, 76.41, 82.99], 2002: [79.76, 76.38, 83.14], 2001: [79.67, 76.27, 83.05], 2000: [79.34, 75.93, 82.73], 1999: [78.87, 75.43, 82.32], 1998: [78.87, 75.42, 82.31], 1997: [78.76, 75.29, 82.23], 1996: [78.26, 74.66, 81.88], 1995: [78.12, 74.53, 81.72], 1994: [78.03, 74.47, 81.6], 1993: [77.66, 74.09, 81.23], 1992: [77.51, 73.89, 81.14], 1991: [77.07, 73.49, 80.65], 1990: [76.91, 73.4, 80.41], 1989: [76.9, 73.42, 80.36], 1988: [76.86, 73.52, 80.15], 1987: [76.84, 73.55, 80.07], 1986: [76.61, 73.4, 79.75], 1985: [76.34, 73.08, 79.54], 1984: [76.39, 73.18, 79.51], 1983: [76.02, 72.94, 79.0], 1982: [76.22, 73.15, 79.19], 1981: [75.61, 72.51, 78.63], 1980: [75.44, 72.36, 78.41], 1979: [74.91, 71.81, 77.91], 1978: [74.44, 71.41, 77.37], 1977: [74.24, 71.27, 77.12], 1976: [73.76, 70.81, 76.61], 1975: [73.44, 70.53, 76.25]}\n"
     ]
    }
   ],
   "source": [
    "import csv\n",
    "\n",
    "def cargar_datos_desde_csv(archivo_csv):\n",
    "    datos = {}\n",
    "    with open(archivo_csv, newline='') as csvfile:\n",
    "        lector_csv = csv.reader(csvfile, delimiter=';')  # Especifica el delimitador como punto y coma\n",
    "        # Ignoramos la primera fila si contiene encabezados\n",
    "        encabezados = next(lector_csv)\n",
    "        for fila in lector_csv:\n",
    "            # Verificamos si la fila tiene al menos 4 elementos antes de intentar acceder a ellos\n",
    "            if len(fila) >= 4:\n",
    "                # Convertimos el año a entero (suponiendo que está en la tercera columna)\n",
    "                año = int(fila[2])\n",
    "                # Reemplazamos las comas por puntos y luego convertimos a float\n",
    "                valor = float(fila[3].replace(',', '.'))  # Reemplaza la coma por punto y convierte a float\n",
    "                if año in datos:\n",
    "                    datos[año].append(valor)\n",
    "                # Si el año no está en el diccionario, creamos una nueva lista con el valor\n",
    "                else:\n",
    "                    datos[año] = [valor]\n",
    "            else:\n",
    "                print(\"Advertencia: La fila no tiene suficientes elementos:\", fila)\n",
    "    return datos\n",
    "\n",
    "# Reemplaza 'datos.csv' con el nombre de tu archivo CSV\n",
    "datos = cargar_datos_desde_csv('C:/Users/Iker Nikolas/Desktop/TFM-24/Github/DatasetsOriginales/esperanza de vida (1975-2022).csv')\n",
    "print(datos)"
   ]
  },
  {
   "cell_type": "code",
   "execution_count": null,
   "id": "bc010e85-83b3-44ce-824b-4e198cd10c6c",
   "metadata": {},
   "outputs": [],
   "source": []
  }
 ],
 "metadata": {
  "kernelspec": {
   "display_name": "Python 3 (ipykernel)",
   "language": "python",
   "name": "python3"
  },
  "language_info": {
   "codemirror_mode": {
    "name": "ipython",
    "version": 3
   },
   "file_extension": ".py",
   "mimetype": "text/x-python",
   "name": "python",
   "nbconvert_exporter": "python",
   "pygments_lexer": "ipython3",
   "version": "3.11.7"
  }
 },
 "nbformat": 4,
 "nbformat_minor": 5
}
