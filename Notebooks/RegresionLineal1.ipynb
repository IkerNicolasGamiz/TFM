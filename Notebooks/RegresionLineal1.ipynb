{
 "cells": [
  {
   "cell_type": "code",
   "execution_count": 5,
   "id": "39016b46-9d68-445d-af25-97efd97d4f9d",
   "metadata": {},
   "outputs": [
    {
     "name": "stdout",
     "output_type": "stream",
     "text": [
      "{2022: 6.88, 2021: 7.1, 2020: 7.19, 2019: 7.62, 2018: 7.94, 2017: 8.41, 2016: 8.8, 2015: 9.02, 2014: 9.18, 2013: 9.11, 2012: 9.7, 2011: 10.07, 2010: 10.42, 2009: 10.65, 2008: 11.28, 2007: 10.86, 2006: 10.85, 2005: 10.65, 2004: 10.57, 2003: 10.44, 2002: 10.08, 2001: 9.94, 2000: 9.78, 1999: 9.39, 1998: 9.06, 1997: 9.2, 1996: 9.07, 1995: 9.15, 1994: 9.35, 1993: 9.8, 1992: 10.13, 1991: 10.16, 1990: 10.32, 1989: 10.51, 1988: 10.79, 1987: 11.02, 1986: 11.36, 1985: 11.85, 1984: 12.34, 1983: 12.71, 1982: 13.57, 1981: 14.1, 1980: 15.22, 1979: 16.17, 1978: 17.25, 1977: 17.96, 1976: 18.73, 1975: 18.7}\n"
     ]
    }
   ],
   "source": [
    "#El primer valor es la tasa de natalidad de 2022 a 1975\n",
    "\n",
    "def cargar_datos_desde_csv(archivo_csv):\n",
    "    datos = {}\n",
    "    with open(archivo_csv, newline='') as csvfile:\n",
    "        lector_csv = csv.reader(csvfile, delimiter=';')  # Especifica el delimitador como punto y coma\n",
    "        # Ignoramos la primera fila si contiene encabezados\n",
    "        encabezados = next(lector_csv)\n",
    "        # Suponiendo que los datos están en la segunda y tercera columna\n",
    "        for fila in lector_csv:\n",
    "            # Verificamos si la fila tiene al menos 2 elementos antes de intentar acceder a ellos\n",
    "            if len(fila) >= 2:\n",
    "                # Convertimos el año a entero (suponiendo que está en la primera columna)\n",
    "                año = int(fila[0])\n",
    "                # Reemplazamos las comas por puntos y luego convertimos a float\n",
    "                valor = float(fila[1].replace(',', '.'))  # Reemplaza la coma por punto y convierte a float\n",
    "                datos[año] = valor\n",
    "            else:\n",
    "                print(\"Advertencia: La fila no tiene suficientes elementos:\", fila)\n",
    "    return datos\n",
    "\n",
    "\n",
    "datos = cargar_datos_desde_csv('C:/Users/Iker Nikolas/Desktop/TFM-24/Github/DatasetsNormalizados/TasaDeNatalidad/TasaDeNatalidad(1000 habitantes).csv')\n",
    "print(datos)"
   ]
  },
  {
   "cell_type": "code",
   "execution_count": 37,
   "id": "33a522ab-466a-4c6e-8716-3834393a512a",
   "metadata": {},
   "outputs": [
    {
     "name": "stdout",
     "output_type": "stream",
     "text": [
      "{2022: {'Tasa de Natalidad': 6.88, 'Esperanza de vida': 83.08}, 2021: {'Tasa de Natalidad': 7.1, 'Esperanza de vida': 83.03}, 2020: {'Tasa de Natalidad': 7.19, 'Esperanza de vida': 82.28}, 2019: {'Tasa de Natalidad': 7.62, 'Esperanza de vida': 83.53}, 2018: {'Tasa de Natalidad': 7.94, 'Esperanza de vida': 83.15}, 2017: {'Tasa de Natalidad': 8.41, 'Esperanza de vida': 83.05}, 2016: {'Tasa de Natalidad': 8.8, 'Esperanza de vida': 83.08}, 2015: {'Tasa de Natalidad': 9.02, 'Esperanza de vida': 82.67}, 2014: {'Tasa de Natalidad': 9.18, 'Esperanza de vida': 82.91}, 2013: {'Tasa de Natalidad': 9.11, 'Esperanza de vida': 82.77}, 2012: {'Tasa de Natalidad': 9.7, 'Esperanza de vida': 82.26}, 2011: {'Tasa de Natalidad': 10.07, 'Esperanza de vida': 82.25}, 2010: {'Tasa de Natalidad': 10.42, 'Esperanza de vida': 82.07}, 2009: {'Tasa de Natalidad': 10.65, 'Esperanza de vida': 81.66}, 2008: {'Tasa de Natalidad': 11.28, 'Esperanza de vida': 81.3}, 2007: {'Tasa de Natalidad': 10.86, 'Esperanza de vida': 80.97}, 2006: {'Tasa de Natalidad': 10.85, 'Esperanza de vida': 80.94}, 2005: {'Tasa de Natalidad': 10.65, 'Esperanza de vida': 80.28}, 2004: {'Tasa de Natalidad': 10.57, 'Esperanza de vida': 80.29}, 2003: {'Tasa de Natalidad': 10.44, 'Esperanza de vida': 79.7}, 2002: {'Tasa de Natalidad': 10.08, 'Esperanza de vida': 79.76}, 2001: {'Tasa de Natalidad': 9.94, 'Esperanza de vida': 79.67}, 2000: {'Tasa de Natalidad': 9.78, 'Esperanza de vida': 79.34}, 1999: {'Tasa de Natalidad': 9.39, 'Esperanza de vida': 78.87}, 1998: {'Tasa de Natalidad': 9.06, 'Esperanza de vida': 78.87}, 1997: {'Tasa de Natalidad': 9.2, 'Esperanza de vida': 78.76}, 1996: {'Tasa de Natalidad': 9.07, 'Esperanza de vida': 78.26}, 1995: {'Tasa de Natalidad': 9.15, 'Esperanza de vida': 78.12}, 1994: {'Tasa de Natalidad': 9.35, 'Esperanza de vida': 78.03}, 1993: {'Tasa de Natalidad': 9.8, 'Esperanza de vida': 77.66}, 1992: {'Tasa de Natalidad': 10.13, 'Esperanza de vida': 77.51}, 1991: {'Tasa de Natalidad': 10.16, 'Esperanza de vida': 77.07}, 1990: {'Tasa de Natalidad': 10.32, 'Esperanza de vida': 76.91}, 1989: {'Tasa de Natalidad': 10.51, 'Esperanza de vida': 76.9}, 1988: {'Tasa de Natalidad': 10.79, 'Esperanza de vida': 76.86}, 1987: {'Tasa de Natalidad': 11.02, 'Esperanza de vida': 76.84}, 1986: {'Tasa de Natalidad': 11.36, 'Esperanza de vida': 76.61}, 1985: {'Tasa de Natalidad': 11.85, 'Esperanza de vida': 76.34}, 1984: {'Tasa de Natalidad': 12.34, 'Esperanza de vida': 76.39}, 1983: {'Tasa de Natalidad': 12.71, 'Esperanza de vida': 76.02}, 1982: {'Tasa de Natalidad': 13.57, 'Esperanza de vida': 76.22}, 1981: {'Tasa de Natalidad': 14.1, 'Esperanza de vida': 75.61}, 1980: {'Tasa de Natalidad': 15.22, 'Esperanza de vida': 75.44}, 1979: {'Tasa de Natalidad': 16.17, 'Esperanza de vida': 74.91}, 1978: {'Tasa de Natalidad': 17.25, 'Esperanza de vida': 74.44}, 1977: {'Tasa de Natalidad': 17.96, 'Esperanza de vida': 74.24}, 1976: {'Tasa de Natalidad': 18.73, 'Esperanza de vida': 73.76}, 1975: {'Tasa de Natalidad': 18.7, 'Esperanza de vida': 73.44}}\n"
     ]
    }
   ],
   "source": [
    "#Metemos al diccionario la esperanza de vida del 2022 a 1975 tambíen\n",
    "\n",
    "import csv\n",
    "\n",
    "def cargar_datos_desde_csv(archivo_csv1, archivo_csv2):\n",
    "    datos = {}\n",
    "    \n",
    "    # Cargar datos del primer archivo CSV\n",
    "    with open(archivo_csv1, newline='') as csvfile1:\n",
    "        lector_csv1 = csv.reader(csvfile1, delimiter=';')\n",
    "        # Ignorar la primera fila si contiene encabezados\n",
    "        encabezados1 = next(lector_csv1)\n",
    "        for fila in lector_csv1:\n",
    "            año = int(fila[0])\n",
    "            valor = float(fila[1].replace(',', '.'))\n",
    "            datos[año] = {'Tasa de Natalidad': valor}\n",
    "    \n",
    "    # Cargar datos del segundo archivo CSV\n",
    "    with open(archivo_csv2, newline='') as csvfile2:\n",
    "        lector_csv2 = csv.reader(csvfile2, delimiter=';')\n",
    "        # Ignorar la primera fila si contiene encabezados\n",
    "        encabezados2 = next(lector_csv2)\n",
    "        for fila in lector_csv2:\n",
    "            año = int(fila[0])\n",
    "            valor = float(fila[1].replace(',', '.'))\n",
    "            # Si el año ya está en el diccionario, agregamos el valor del segundo dataset\n",
    "            if año in datos:\n",
    "                datos[año]['Esperanza de vida'] = valor\n",
    "            # Si el año no está en el diccionario, creamos una nueva entrada con el valor del segundo dataset\n",
    "            else:\n",
    "                datos[año] = {'Esperaza de vida': valor}\n",
    "    \n",
    "    return datos\n",
    "\n",
    "#def calcular_correlacion(datos):\n",
    "#    tasa_natalidad = []\n",
    "#    esperanza_vida = []\n",
    "#    \n",
    "#    # Extraer los datos de la tasa de natalidad y la esperanza de vida del diccionario\n",
    "#    for año, valores in datos.items():\n",
    "#        if 'Tasa de Natalidad' in valores and 'Esperanza de vida' in valores:\n",
    "#            tasa_natalidad.append(valores['Tasa de Natalidad'])\n",
    "#            esperanza_vida.append(valores['Esperanza de vida'])\n",
    "#    \n",
    "#    # Calcular el coeficiente de correlación de Pearson\n",
    "#    coef_corr = np.corrcoef(tasa_natalidad, esperanza_vida)[0, 1]\n",
    "#    \n",
    "#    return coef_corr\n",
    "    \n",
    "datos = cargar_datos_desde_csv('C:/Users/Iker Nikolas/Desktop/TFM-24/Github/DatasetsNormalizados/TasaDeNatalidad/TasaDeNatalidad(1000 habitantes).csv', 'C:/Users/Iker Nikolas/Desktop/TFM-24/Github/DatasetsNormalizados/EsperanzaDeVida/EsperanzaDeVidaGeneral.csv')\n",
    "print(datos)\n",
    "\n",
    "#Calcular el coeficiente de correlacion entre ambos\n",
    "#coeficiente_correlacion = calcular_correlacion(datos)\n",
    "#print(\"Coeficiente de correlación entre tasa de natalidad y esperanza de vida:\", coeficiente_correlacion)"
   ]
  },
  {
   "cell_type": "code",
   "execution_count": 29,
   "id": "520093b7-cb94-4817-bbdc-a92601c7857d",
   "metadata": {},
   "outputs": [
    {
     "name": "stdout",
     "output_type": "stream",
     "text": [
      "Medias por cuarteto:\n",
      "     Año  Media por Cuarteto\n",
      "0   2023           23899.525\n",
      "1   2022           23415.125\n",
      "2   2021           23203.175\n",
      "3   2020           22733.325\n",
      "4   2019           23027.100\n",
      "5   2018           22806.825\n",
      "6   2017           22741.700\n",
      "7   2016           22822.725\n",
      "8   2015           22922.025\n",
      "9   2014           22954.575\n",
      "10  2013           23190.150\n",
      "11  2012           23443.700\n",
      "12  2011           23434.075\n",
      "13  2010           23364.600\n",
      "14  2009           23260.400\n",
      "15  2008           23065.550\n",
      "16  2007           22426.100\n",
      "17  2006           21779.975\n",
      "18  2005           21140.550\n",
      "19  2004           20375.775\n",
      "20  2003           19742.750\n",
      "21  2002           18961.225\n"
     ]
    }
   ],
   "source": [
    "import pandas as pd\n",
    "import numpy as np\n",
    "\n",
    "# Cargar los datos desde el archivo Excel (.xlsx)\n",
    "df = pd.read_excel(\"C:/Users/Iker Nikolas/Desktop/TFM-24/Github/DatasetsNormalizados/PoblacionActiva/PoblacionActivaGeneral.xlsx\", index_col=0)\n",
    "\n",
    "# Convertir todos los valores del DataFrame en cadenas\n",
    "df = df.astype(str)\n",
    "\n",
    "# Reemplazar las comas por puntos en todos los valores del DataFrame\n",
    "df = df.apply(lambda x: x.str.replace(',', '.'))\n",
    "\n",
    "# Convertir los valores del DataFrame a números de punto flotante\n",
    "df = df.astype(float)\n",
    "\n",
    "# Filtrar solo la primera fila\n",
    "primera_fila = df.iloc[[0]]\n",
    "\n",
    "# Crear listas para almacenar los años y las medias por cuarteto\n",
    "años = []\n",
    "medias_por_cuarteto = []\n",
    "\n",
    "# Iterar sobre cada conjunto de cuatro trimestres\n",
    "for año in df.columns.str[:4].unique():\n",
    "    # Filtrar los datos correspondientes a ese año\n",
    "    df_año = primera_fila.filter(like=año)\n",
    "    # Iterar sobre cada conjunto de cuatro trimestres\n",
    "    for i in range(0, len(df_año.columns), 4):\n",
    "        # Obtener los cuatro trimestres actuales\n",
    "        trimestres_actuales = df_año.iloc[:, i:i+4]\n",
    "        # Calcular la media de los trimestres actuales\n",
    "        media_trimestral = trimestres_actuales.mean(axis=1).iloc[0]\n",
    "        # Agregar el año y la media al resultado\n",
    "        años.append(año)\n",
    "        medias_por_cuarteto.append(media_trimestral)\n",
    "\n",
    "# Crear un DataFrame con los años y las medias por cuarteto\n",
    "df_medias_por_cuarteto = pd.DataFrame({'Año': años, 'Media por Cuarteto': medias_por_cuarteto})\n",
    "\n",
    "# Imprimir las medias por cuarteto\n",
    "print(\"Medias por cuarteto:\")\n",
    "print(df_medias_por_cuarteto)"
   ]
  },
  {
   "cell_type": "code",
   "execution_count": 38,
   "id": "9b5ed24b-1804-4870-a564-f31430dcfc87",
   "metadata": {},
   "outputs": [
    {
     "name": "stdout",
     "output_type": "stream",
     "text": [
      "{2022: {'Poblacion Activa': 23415.125, 'Tasa de Natalidad': 6.88, 'Esperanza de vida': 83.08}, 2021: {'Poblacion Activa': 23203.175, 'Tasa de Natalidad': 7.1, 'Esperanza de vida': 83.03}, 2020: {'Poblacion Activa': 22733.324999999997, 'Tasa de Natalidad': 7.19, 'Esperanza de vida': 82.28}, 2019: {'Poblacion Activa': 23027.1, 'Tasa de Natalidad': 7.62, 'Esperanza de vida': 83.53}, 2018: {'Poblacion Activa': 22806.825, 'Tasa de Natalidad': 7.94, 'Esperanza de vida': 83.15}, 2017: {'Poblacion Activa': 22741.7, 'Tasa de Natalidad': 8.41, 'Esperanza de vida': 83.05}, 2016: {'Poblacion Activa': 22822.725, 'Tasa de Natalidad': 8.8, 'Esperanza de vida': 83.08}, 2015: {'Poblacion Activa': 22922.025, 'Tasa de Natalidad': 9.02, 'Esperanza de vida': 82.67}, 2014: {'Poblacion Activa': 22954.574999999997, 'Tasa de Natalidad': 9.18, 'Esperanza de vida': 82.91}, 2013: {'Poblacion Activa': 23190.15, 'Tasa de Natalidad': 9.11, 'Esperanza de vida': 82.77}, 2012: {'Poblacion Activa': 23443.7, 'Tasa de Natalidad': 9.7, 'Esperanza de vida': 82.26}, 2011: {'Poblacion Activa': 23434.075, 'Tasa de Natalidad': 10.07, 'Esperanza de vida': 82.25}, 2010: {'Poblacion Activa': 23364.6, 'Tasa de Natalidad': 10.42, 'Esperanza de vida': 82.07}, 2009: {'Poblacion Activa': 23260.4, 'Tasa de Natalidad': 10.65, 'Esperanza de vida': 81.66}, 2008: {'Poblacion Activa': 23065.549999999996, 'Tasa de Natalidad': 11.28, 'Esperanza de vida': 81.3}, 2007: {'Poblacion Activa': 22426.100000000002, 'Tasa de Natalidad': 10.86, 'Esperanza de vida': 80.97}, 2006: {'Poblacion Activa': 21779.975000000002, 'Tasa de Natalidad': 10.85, 'Esperanza de vida': 80.94}, 2005: {'Poblacion Activa': 21140.550000000003, 'Tasa de Natalidad': 10.65, 'Esperanza de vida': 80.28}, 2004: {'Poblacion Activa': 20375.775, 'Tasa de Natalidad': 10.57, 'Esperanza de vida': 80.29}, 2003: {'Poblacion Activa': 19742.75, 'Tasa de Natalidad': 10.44, 'Esperanza de vida': 79.7}, 2002: {'Poblacion Activa': 18961.225, 'Tasa de Natalidad': 10.08, 'Esperanza de vida': 79.76}}\n"
     ]
    }
   ],
   "source": [
    "import pandas as pd\n",
    "import csv\n",
    "\n",
    "def cargar_datos_desde_csv(archivo_csv1, archivo_csv2):\n",
    "    datos = {}\n",
    "    \n",
    "    # Cargar datos del primer archivo CSV (Tasa de Natalidad)\n",
    "    with open(archivo_csv1, newline='') as csvfile1:\n",
    "        lector_csv1 = csv.reader(csvfile1, delimiter=';')\n",
    "        next(lector_csv1)  # Ignorar encabezados\n",
    "        for fila in lector_csv1:\n",
    "            año = int(fila[0])\n",
    "            valor = float(fila[1].replace(',', '.'))\n",
    "            datos[año] = {'Tasa de Natalidad': valor}\n",
    "    \n",
    "    # Cargar datos del segundo archivo CSV (Esperanza de Vida)\n",
    "    with open(archivo_csv2, newline='') as csvfile2:\n",
    "        lector_csv2 = csv.reader(csvfile2, delimiter=';')\n",
    "        next(lector_csv2)  # Ignorar encabezados\n",
    "        for fila in lector_csv2:\n",
    "            año = int(fila[0])\n",
    "            valor = float(fila[1].replace(',', '.'))\n",
    "            # Si el año ya está en el diccionario, agregamos el valor del segundo dataset\n",
    "            if año in datos:\n",
    "                datos[año]['Esperanza de vida'] = valor\n",
    "            # Si el año no está en el diccionario, creamos una nueva entrada con el valor del segundo dataset\n",
    "            else:\n",
    "                datos[año] = {'Esperanza de vida': valor}\n",
    "    \n",
    "    return datos\n",
    "\n",
    "# Ruta de los archivos CSV\n",
    "archivo_csv_tasa_natalidad = 'C:/Users/Iker Nikolas/Desktop/TFM-24/Github/DatasetsNormalizados/TasaDeNatalidad/TasaDeNatalidad(1000 habitantes).csv'\n",
    "archivo_csv_esperanza_vida = 'C:/Users/Iker Nikolas/Desktop/TFM-24/Github/DatasetsNormalizados/EsperanzaDeVida/EsperanzaDeVidaGeneral.csv'\n",
    "\n",
    "# Cargar los datos desde los archivos CSV\n",
    "datos_tasa_esperanza = cargar_datos_desde_csv(archivo_csv_tasa_natalidad, archivo_csv_esperanza_vida)\n",
    "\n",
    "# Filtrar solo la primera fila del DataFrame de población activa\n",
    "primera_fila_poblacion_activa = df.iloc[[0]]\n",
    "\n",
    "# Crear listas para almacenar los años y las medias por cuarteto\n",
    "años = []\n",
    "medias_por_cuarteto = []\n",
    "\n",
    "# Iterar sobre cada conjunto de cuatro trimestres\n",
    "for año in primera_fila_poblacion_activa.columns.str[:4].unique():\n",
    "    # Filtrar los datos correspondientes a ese año\n",
    "    df_año = primera_fila_poblacion_activa.filter(like=año)\n",
    "    # Iterar sobre cada conjunto de cuatro trimestres\n",
    "    for i in range(0, len(df_año.columns), 4):\n",
    "        # Obtener los cuatro trimestres actuales\n",
    "        trimestres_actuales = df_año.iloc[:, i:i+4]\n",
    "        # Calcular la media de los trimestres actuales\n",
    "        media_trimestral = trimestres_actuales.mean(axis=1).iloc[0]\n",
    "        # Agregar el año y la media al resultado\n",
    "        años.append(int(año))\n",
    "        medias_por_cuarteto.append(media_trimestral)\n",
    "\n",
    "# Crear un DataFrame con los años y las medias por cuarteto\n",
    "df_medias_por_cuarteto = pd.DataFrame({'Año': años, 'Poblacion Activa': medias_por_cuarteto})\n",
    "\n",
    "# Convertir los datos de la media por cuarteto a un diccionario para facilitar el procesamiento\n",
    "datos_medias_por_cuarteto = {}\n",
    "\n",
    "# Actualizar el diccionario con los datos de tasa de natalidad y esperanza de vida\n",
    "for año, valores in datos_tasa_esperanza.items():\n",
    "    if año in df_medias_por_cuarteto['Año'].tolist():\n",
    "        indice = df_medias_por_cuarteto[df_medias_por_cuarteto['Año'] == año].index[0]\n",
    "        datos_medias_por_cuarteto[año] = {'Poblacion Activa': df_medias_por_cuarteto.at[indice, 'Poblacion Activa']}\n",
    "        datos_medias_por_cuarteto[año].update(valores)\n",
    "\n",
    "# Imprimir el diccionario actualizado\n",
    "print(datos_medias_por_cuarteto)"
   ]
  },
  {
   "cell_type": "code",
   "execution_count": 42,
   "id": "add659c7-fc0e-4bd2-82a1-8d20d7b79fe5",
   "metadata": {},
   "outputs": [
    {
     "name": "stdout",
     "output_type": "stream",
     "text": [
      "{2022: {'Poblacion Activa': 23415.125, 'Tasa de Natalidad': 6.88, 'Esperanza de vida': 83.08, 'Mayores de 65': 9479010.0}, 2021: {'Poblacion Activa': 23203.175, 'Tasa de Natalidad': 7.1, 'Esperanza de vida': 83.03, 'Mayores de 65': 9310828.0}, 2020: {'Poblacion Activa': 22733.324999999997, 'Tasa de Natalidad': 7.19, 'Esperanza de vida': 82.28, 'Mayores de 65': 9218381.0}, 2019: {'Poblacion Activa': 23027.1, 'Tasa de Natalidad': 7.62, 'Esperanza de vida': 83.53, 'Mayores de 65': 9057193.0}, 2018: {'Poblacion Activa': 22806.825, 'Tasa de Natalidad': 7.94, 'Esperanza de vida': 83.15, 'Mayores de 65': 8908151.0}, 2017: {'Poblacion Activa': 22741.7, 'Tasa de Natalidad': 8.41, 'Esperanza de vida': 83.05, 'Mayores de 65': 8764204.0}, 2016: {'Poblacion Activa': 22822.725, 'Tasa de Natalidad': 8.8, 'Esperanza de vida': 83.08, 'Mayores de 65': 8657705.0}, 2015: {'Poblacion Activa': 22922.025, 'Tasa de Natalidad': 9.02, 'Esperanza de vida': 82.67, 'Mayores de 65': 8573985.0}, 2014: {'Poblacion Activa': 22954.574999999997, 'Tasa de Natalidad': 9.18, 'Esperanza de vida': 82.91, 'Mayores de 65': 8442427.0}, 2013: {'Poblacion Activa': 23190.15, 'Tasa de Natalidad': 9.11, 'Esperanza de vida': 82.77, 'Mayores de 65': 8335861.0}, 2012: {'Poblacion Activa': 23443.7, 'Tasa de Natalidad': 9.7, 'Esperanza de vida': 82.26, 'Mayores de 65': 8222196.0}, 2011: {'Poblacion Activa': 23434.075, 'Tasa de Natalidad': 10.07, 'Esperanza de vida': 82.25, 'Mayores de 65': 8093557.0}, 2010: {'Poblacion Activa': 23364.6, 'Tasa de Natalidad': 10.42, 'Esperanza de vida': 82.07, 'Mayores de 65': 7931164.0}, 2009: {'Poblacion Activa': 23260.4, 'Tasa de Natalidad': 10.65, 'Esperanza de vida': 81.66, 'Mayores de 65': 7782904.0}, 2008: {'Poblacion Activa': 23065.549999999996, 'Tasa de Natalidad': 11.28, 'Esperanza de vida': 81.3, 'Mayores de 65': 7632925.0}, 2007: {'Poblacion Activa': 22426.100000000002, 'Tasa de Natalidad': 10.86, 'Esperanza de vida': 80.97, 'Mayores de 65': 7531826.0}, 2006: {'Poblacion Activa': 21779.975000000002, 'Tasa de Natalidad': 10.85, 'Esperanza de vida': 80.94, 'Mayores de 65': 7484392.0}, 2005: {'Poblacion Activa': 21140.550000000003, 'Tasa de Natalidad': 10.65, 'Esperanza de vida': 80.28, 'Mayores de 65': 7332267.0}, 2004: {'Poblacion Activa': 20375.775, 'Tasa de Natalidad': 10.57, 'Esperanza de vida': 80.29, 'Mayores de 65': 7301009.0}, 2003: {'Poblacion Activa': 19742.75, 'Tasa de Natalidad': 10.44, 'Esperanza de vida': 79.7, 'Mayores de 65': 7276620.0}, 2002: {'Poblacion Activa': 18961.225, 'Tasa de Natalidad': 10.08, 'Esperanza de vida': 79.76, 'Mayores de 65': 7169437.0}}\n"
     ]
    }
   ],
   "source": [
    "# Ruta del archivo Excel\n",
    "archivo_excel = 'C:/Users/Iker Nikolas/Desktop/TFM-24/Github/DatasetsNormalizados/PoblacionPorEdad/PoblacionPorEdad.xlsx'\n",
    "\n",
    "# Cargar el archivo Excel en un DataFrame de pandas\n",
    "df = pd.read_excel(archivo_excel, engine='openpyxl')\n",
    "\n",
    "# Seleccionar las filas correspondientes a las edades especificadas\n",
    "filas_edades = df.iloc[15:24, 1:]\n",
    "\n",
    "# Calcular la suma por año\n",
    "suma_por_año = filas_edades.sum(axis=0)\n",
    "\n",
    "# Actualizar el diccionario datos_medias_por_cuarteto con la suma de población por edad\n",
    "for año, suma in zip(suma_por_año.index, suma_por_año.values):\n",
    "    # Convertir el año a entero\n",
    "    año = int(año)\n",
    "    # Si el año está en datos_medias_por_cuarteto\n",
    "    if año in datos_medias_por_cuarteto:\n",
    "        # Agregar la suma de población por edad al diccionario de ese año\n",
    "        datos_medias_por_cuarteto[año][\"Mayores de 65\"] = suma\n",
    "\n",
    "# Mostrar el diccionario actualizado\n",
    "print(datos_medias_por_cuarteto)"
   ]
  },
  {
   "cell_type": "code",
   "execution_count": 43,
   "id": "ef7b9c9c-88ad-4eaf-bdf4-73e307e2f5b3",
   "metadata": {},
   "outputs": [
    {
     "name": "stdout",
     "output_type": "stream",
     "text": [
      "                   Poblacion Activa  Tasa de Natalidad  Esperanza de vida  \\\n",
      "Poblacion Activa           1.000000          -0.378844           0.825898   \n",
      "Tasa de Natalidad         -0.378844           1.000000          -0.743942   \n",
      "Esperanza de vida          0.825898          -0.743942           1.000000   \n",
      "Mayores de 65              0.654656          -0.942587           0.898452   \n",
      "\n",
      "                   Mayores de 65  \n",
      "Poblacion Activa        0.654656  \n",
      "Tasa de Natalidad      -0.942587  \n",
      "Esperanza de vida       0.898452  \n",
      "Mayores de 65           1.000000  \n"
     ]
    }
   ],
   "source": [
    "import pandas as pd\n",
    "\n",
    "# Convertir el diccionario datos_medias_por_cuarteto en DataFrame\n",
    "df_datos = pd.DataFrame(datos_medias_por_cuarteto).T\n",
    "\n",
    "# Calcular la matriz de correlación\n",
    "matriz_correlacion = df_datos.corr()\n",
    "\n",
    "# Mostrar la matriz de correlación\n",
    "print(matriz_correlacion)"
   ]
  },
  {
   "cell_type": "code",
   "execution_count": 45,
   "id": "c20e532d-3001-4b69-b83b-ba78c0bb17bd",
   "metadata": {},
   "outputs": [
    {
     "name": "stdout",
     "output_type": "stream",
     "text": [
      "Porcentaje de crecimiento de la población activa desde 2002 a 2022: 23.489516104576584 %\n",
      "Porcentaje de crecimiento de las personas mayores de 65 años desde 2002 a 2022: 32.21414735913015 %\n"
     ]
    }
   ],
   "source": [
    "# Definir los valores absolutos de población activa y personas mayores de 65 años en 2002 y 2022\n",
    "poblacion_activa_2002 = datos_medias_por_cuarteto[2002][\"Poblacion Activa\"]\n",
    "poblacion_activa_2022 = datos_medias_por_cuarteto[2022][\"Poblacion Activa\"]\n",
    "personas_mayores_65_2002 = datos_medias_por_cuarteto[2002][\"Mayores de 65\"]\n",
    "personas_mayores_65_2022 = datos_medias_por_cuarteto[2022][\"Mayores de 65\"]\n",
    "\n",
    "# Calcular el porcentaje de crecimiento de la población activa y de las personas mayores de 65 años\n",
    "porcentaje_crecimiento_activa = ((poblacion_activa_2022 - poblacion_activa_2002) / poblacion_activa_2002) * 100\n",
    "porcentaje_crecimiento_mayores_65 = ((personas_mayores_65_2022 - personas_mayores_65_2002) / personas_mayores_65_2002) * 100\n",
    "\n",
    "# Imprimir los resultados\n",
    "print(\"Porcentaje de crecimiento de la población activa desde 2002 a 2022:\", porcentaje_crecimiento_activa, \"%\")\n",
    "print(\"Porcentaje de crecimiento de las personas mayores de 65 años desde 2002 a 2022:\", porcentaje_crecimiento_mayores_65, \"%\")"
   ]
  },
  {
   "cell_type": "code",
   "execution_count": 47,
   "id": "e8100cfe-c26c-4ce7-8b90-30d061399324",
   "metadata": {},
   "outputs": [
    {
     "name": "stdout",
     "output_type": "stream",
     "text": [
      "Diferencia absoluta entre el número de personas en 2022 y 2002:\n",
      "Diferencia para la población activa: 4453.9000000000015 miles de personas\n",
      "Diferencia para las personas mayores de 65 años: 2309.5730000000003 miles de personas\n"
     ]
    }
   ],
   "source": [
    "# Convertir la población de personas mayores de 65 años a miles de personas\n",
    "personas_mayores_65_2002_miles = personas_mayores_65_2002 / 1000\n",
    "personas_mayores_65_2022_miles = personas_mayores_65_2022 / 1000\n",
    "\n",
    "# Calcular la diferencia absoluta entre 2022 y 2002 para la población activa y personas mayores de 65 años (en miles de personas)\n",
    "diferencia_activa = poblacion_activa_2022 - poblacion_activa_2002\n",
    "diferencia_mayores_65 = personas_mayores_65_2022_miles - personas_mayores_65_2002_miles\n",
    "\n",
    "# Imprimir los resultados\n",
    "print(\"Diferencia absoluta entre el número de personas en 2022 y 2002:\")\n",
    "print(\"Diferencia para la población activa:\", diferencia_activa, \"miles de personas\")\n",
    "print(\"Diferencia para las personas mayores de 65 años:\", diferencia_mayores_65, \"miles de personas\")"
   ]
  },
  {
   "cell_type": "code",
   "execution_count": 49,
   "id": "afd6ab46-d0c5-42e7-9794-2e6cf64a133e",
   "metadata": {},
   "outputs": [
    {
     "name": "stdout",
     "output_type": "stream",
     "text": [
      "Coeficientes de regresión:\n",
      "Intercepto (β0): [1919.20300808]\n",
      "Coeficientes para cada variable (β): [[5.59356399e-01 1.25105965e-01 1.41639826e-04 9.02372762e-06]]\n"
     ]
    }
   ],
   "source": [
    "from sklearn.linear_model import LinearRegression\n",
    "\n",
    "# Crear modelo de regresión lineal\n",
    "model = LinearRegression()\n",
    "\n",
    "# Entrenar el modelo con los datos\n",
    "X = df_datos[['Tasa de Natalidad', 'Esperanza de vida', 'Poblacion Activa', 'Mayores de 65']]\n",
    "y = df_datos.index.values.reshape(-1, 1)  # Años\n",
    "\n",
    "model.fit(X, y)\n",
    "\n",
    "# Obtener coeficientes de regresión\n",
    "beta0 = model.intercept_\n",
    "betas = model.coef_\n",
    "\n",
    "print(\"Coeficientes de regresión:\")\n",
    "print(\"Intercepto (β0):\", beta0)\n",
    "print(\"Coeficientes para cada variable (β):\", betas)"
   ]
  },
  {
   "cell_type": "code",
   "execution_count": null,
   "id": "19c2daa4-1897-41f6-ab27-bf2b47040d55",
   "metadata": {},
   "outputs": [],
   "source": []
  }
 ],
 "metadata": {
  "kernelspec": {
   "display_name": "Python 3 (ipykernel)",
   "language": "python",
   "name": "python3"
  },
  "language_info": {
   "codemirror_mode": {
    "name": "ipython",
    "version": 3
   },
   "file_extension": ".py",
   "mimetype": "text/x-python",
   "name": "python",
   "nbconvert_exporter": "python",
   "pygments_lexer": "ipython3",
   "version": "3.11.7"
  }
 },
 "nbformat": 4,
 "nbformat_minor": 5
}
